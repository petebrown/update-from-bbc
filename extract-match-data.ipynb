{
 "cells": [
  {
   "cell_type": "code",
   "execution_count": 19,
   "metadata": {},
   "outputs": [],
   "source": [
    "import json\n",
    "import pandas as pd\n",
    "\n",
    "with open(\"./matches/EFBO2372905.json\") as f:\n",
    "    data = f.read()\n",
    "\n",
    "data = json.loads(data)\n",
    "match_key = next(iter(data[\"matchData\"][0][\"tournamentDatesWithEvents\"]))\n",
    "\n",
    "comp_data = match_data = data[\"matchData\"][0][\"tournamentMeta\"]\n",
    "match_data = data[\"matchData\"][0][\"tournamentDatesWithEvents\"][match_key][0][\"events\"][0]"
   ]
  },
  {
   "cell_type": "code",
   "execution_count": 58,
   "metadata": {},
   "outputs": [
    {
     "data": {
      "text/plain": [
       "dict_keys(['eventKey', 'startTime', 'isTBC', 'minutesElapsed', 'minutesIntoAddedTime', 'eventStatus', 'eventStatusNote', 'eventStatusReason', 'eventOutcomeType', 'eventType', 'seriesWinner', 'cpsId', 'cpsLive', 'homeTeam', 'awayTeam', 'eventProgress', 'venue', 'officials', 'tournamentInfo', 'eventActions', 'startTimeInUKHHMM', 'comment', 'href', 'tournamentName', 'tournamentSlug'])"
      ]
     },
     "execution_count": 58,
     "metadata": {},
     "output_type": "execute_result"
    }
   ],
   "source": [
    "match_data.keys()"
   ]
  },
  {
   "cell_type": "code",
   "execution_count": 59,
   "metadata": {},
   "outputs": [
    {
     "data": {
      "text/plain": [
       "'Oakwell'"
      ]
     },
     "execution_count": 59,
     "metadata": {},
     "output_type": "execute_result"
    }
   ],
   "source": [
    "stadium = match_data[\"venue\"][\"name\"][\"full\"]\n",
    "stadium"
   ]
  },
  {
   "cell_type": "code",
   "execution_count": 60,
   "metadata": {},
   "outputs": [
    {
     "data": {
      "text/plain": [
       "'Carabao Cup'"
      ]
     },
     "execution_count": 60,
     "metadata": {},
     "output_type": "execute_result"
    }
   ],
   "source": [
    "competition = match_data[\"tournamentName\"][\"full\"]\n",
    "competition"
   ]
  },
  {
   "cell_type": "code",
   "execution_count": 61,
   "metadata": {},
   "outputs": [
    {
     "data": {
      "text/plain": [
       "'2023-08-08'"
      ]
     },
     "execution_count": 61,
     "metadata": {},
     "output_type": "execute_result"
    }
   ],
   "source": [
    "game_date = match_data[\"startTime\"][:10]\n",
    "game_date"
   ]
  },
  {
   "cell_type": "code",
   "execution_count": 62,
   "metadata": {},
   "outputs": [
    {
     "data": {
      "text/plain": [
       "'19:45'"
      ]
     },
     "execution_count": 62,
     "metadata": {},
     "output_type": "execute_result"
    }
   ],
   "source": [
    "ko_time = match_data[\"startTimeInUKHHMM\"]\n",
    "ko_time"
   ]
  },
  {
   "cell_type": "code",
   "execution_count": 65,
   "metadata": {},
   "outputs": [
    {
     "data": {
      "text/plain": [
       "'Carabao Cup'"
      ]
     },
     "execution_count": 65,
     "metadata": {},
     "output_type": "execute_result"
    }
   ],
   "source": [
    "comp_data[\"tournamentName\"][\"full\"]"
   ]
  },
  {
   "cell_type": "code",
   "execution_count": null,
   "metadata": {},
   "outputs": [],
   "source": [
    "teams = [\"homeTeam\", \"awayTeam\"]\n",
    "for team in teams:\n",
    "    team_name = events[team][\"name\"][\"full\"]\n",
    "    try:\n",
    "        players = events[team][\"playerActions\"]\n",
    "        for player in players:\n",
    "            player_name = action[\"name\"][\"full\"]\n",
    "            \n",
    "            actions = player[\"actions\"]\n",
    "            for action in actions:\n",
    "                action_df = pd.json_normalize(action)\n",
    "                action_df[\"game_date\"] = pd.to_datetime(game_date)\n",
    "                action_df[\"team\"] = team_name\n",
    "                action_df[\"player_name\"] = player\n",
    "                player_actions = pd.concat([player_actions, action_df], axis = 0)\n",
    "                print(f\"Added {game_date}\")\n",
    "    except KeyError:\n",
    "        pass"
   ]
  },
  {
   "cell_type": "code",
   "execution_count": 81,
   "metadata": {},
   "outputs": [
    {
     "name": "stdout",
     "output_type": "stream",
     "text": [
      "Herbie Kane\n",
      "Aiden Marsh\n",
      "Luke Norris\n",
      "Samuel Taylor\n"
     ]
    }
   ],
   "source": [
    "player_actions = pd.DataFrame()\n",
    "\n",
    "teams = [\"homeTeam\", \"awayTeam\"]\n",
    "for team in teams:\n",
    "    team_name = match_data[team][\"name\"][\"full\"]\n",
    "    try:\n",
    "        players = match_data[team][\"playerActions\"]\n",
    "        for player in players:\n",
    "            player_name = player[\"name\"][\"full\"]\n",
    "            print(player_name)\n",
    "            \n",
    "            actions = player[\"actions\"]\n",
    "            for action in actions:\n",
    "                action_df = pd.json_normalize(action)\n",
    "                action_df[\"game_date\"] = pd.to_datetime(game_date)\n",
    "                action_df[\"team\"] = team_name\n",
    "                action_df[\"player_name\"] = player_name\n",
    "                player_actions = pd.concat([player_actions, action_df], axis = 0)\n",
    "    except KeyError:\n",
    "        pass"
   ]
  },
  {
   "cell_type": "code",
   "execution_count": 115,
   "metadata": {},
   "outputs": [
    {
     "name": "stdout",
     "output_type": "stream",
     "text": [
      "2 goals saved.\n"
     ]
    },
    {
     "data": {
      "text/html": [
       "<div>\n",
       "<style scoped>\n",
       "    .dataframe tbody tr th:only-of-type {\n",
       "        vertical-align: middle;\n",
       "    }\n",
       "\n",
       "    .dataframe tbody tr th {\n",
       "        vertical-align: top;\n",
       "    }\n",
       "\n",
       "    .dataframe thead th {\n",
       "        text-align: right;\n",
       "    }\n",
       "</style>\n",
       "<table border=\"1\" class=\"dataframe\">\n",
       "  <thead>\n",
       "    <tr style=\"text-align: right;\">\n",
       "      <th></th>\n",
       "      <th>game_date</th>\n",
       "      <th>player_name</th>\n",
       "      <th>goal_min</th>\n",
       "      <th>penalty</th>\n",
       "      <th>own_goal</th>\n",
       "    </tr>\n",
       "  </thead>\n",
       "  <tbody>\n",
       "    <tr>\n",
       "      <th>0</th>\n",
       "      <td>2023-08-08</td>\n",
       "      <td>Luke Norris</td>\n",
       "      <td>23</td>\n",
       "      <td>0</td>\n",
       "      <td>0</td>\n",
       "    </tr>\n",
       "    <tr>\n",
       "      <th>0</th>\n",
       "      <td>2023-08-08</td>\n",
       "      <td>Samuel Taylor</td>\n",
       "      <td>47</td>\n",
       "      <td>0</td>\n",
       "      <td>0</td>\n",
       "    </tr>\n",
       "  </tbody>\n",
       "</table>\n",
       "</div>"
      ],
      "text/plain": [
       "   game_date    player_name  goal_min  penalty  own_goal\n",
       "0 2023-08-08    Luke Norris        23        0         0\n",
       "0 2023-08-08  Samuel Taylor        47        0         0"
      ]
     },
     "execution_count": 115,
     "metadata": {},
     "output_type": "execute_result"
    }
   ],
   "source": [
    "goals  = player_actions.query(\"type == 'goal' & team == 'Tranmere Rovers'\") \\\n",
    "    .rename(columns = {\n",
    "        \"timeElapsed\": \"goal_min\",\n",
    "        \"ownGoal\": \"own_goal\"\n",
    "    }).sort_values(\"goal_min\") \\\n",
    "    .drop_duplicates()\n",
    "\n",
    "goals.penalty = goals.penalty.astype(int)\n",
    "goals.own_goal = goals.own_goal.astype(int)\n",
    "goals.loc[goals.own_goal == 1, \"player_name\"] = \"OG\"\n",
    "\n",
    "goals = goals[[\"game_date\", \"player_name\", \"goal_min\", \"penalty\", \"own_goal\"]]\n",
    "if not goals.empty:\n",
    "    # goals.to_csv(\"goals_updates.csv\", index = False)\n",
    "    print(f\"{len(goals)} goals saved.\")\n",
    "else:\n",
    "    print(\"No goals found.\")\n",
    "\n",
    "goals"
   ]
  },
  {
   "cell_type": "code",
   "execution_count": 110,
   "metadata": {},
   "outputs": [
    {
     "data": {
      "text/html": [
       "<div>\n",
       "<style scoped>\n",
       "    .dataframe tbody tr th:only-of-type {\n",
       "        vertical-align: middle;\n",
       "    }\n",
       "\n",
       "    .dataframe tbody tr th {\n",
       "        vertical-align: top;\n",
       "    }\n",
       "\n",
       "    .dataframe thead th {\n",
       "        text-align: right;\n",
       "    }\n",
       "</style>\n",
       "<table border=\"1\" class=\"dataframe\">\n",
       "  <thead>\n",
       "    <tr style=\"text-align: right;\">\n",
       "      <th></th>\n",
       "      <th>game_date</th>\n",
       "      <th>player_name</th>\n",
       "      <th>min_so</th>\n",
       "    </tr>\n",
       "  </thead>\n",
       "  <tbody>\n",
       "  </tbody>\n",
       "</table>\n",
       "</div>"
      ],
      "text/plain": [
       "Empty DataFrame\n",
       "Columns: [game_date, player_name, min_so]\n",
       "Index: []"
      ]
     },
     "execution_count": 110,
     "metadata": {},
     "output_type": "execute_result"
    }
   ],
   "source": [
    "red_cards = player_actions.query(\"type.str.contains('red-card')\") \\\n",
    "    .rename(columns = {\n",
    "        \"timeElapsed\": \"min_so\",\n",
    "    }).drop_duplicates()\n",
    "\n",
    "red_cards = red_cards[[\"game_date\", \"player_name\", \"min_so\"]]\n",
    "if not red_cards.empty:\n",
    "    red_cards.to_csv(\"red_card_updates.csv\", index = False)\n",
    "else:\n",
    "    print(\"No red cards found.\")\n",
    "\n",
    "red_cards"
   ]
  },
  {
   "cell_type": "code",
   "execution_count": null,
   "metadata": {},
   "outputs": [],
   "source": []
  },
  {
   "cell_type": "code",
   "execution_count": 101,
   "metadata": {},
   "outputs": [
    {
     "data": {
      "text/html": [
       "<div>\n",
       "<style scoped>\n",
       "    .dataframe tbody tr th:only-of-type {\n",
       "        vertical-align: middle;\n",
       "    }\n",
       "\n",
       "    .dataframe tbody tr th {\n",
       "        vertical-align: top;\n",
       "    }\n",
       "\n",
       "    .dataframe thead th {\n",
       "        text-align: right;\n",
       "    }\n",
       "</style>\n",
       "<table border=\"1\" class=\"dataframe\">\n",
       "  <thead>\n",
       "    <tr style=\"text-align: right;\">\n",
       "      <th></th>\n",
       "      <th>type</th>\n",
       "      <th>timeElapsed</th>\n",
       "      <th>addedTime</th>\n",
       "      <th>penalty</th>\n",
       "      <th>ownGoal</th>\n",
       "      <th>displayTime</th>\n",
       "      <th>game_date</th>\n",
       "      <th>team</th>\n",
       "      <th>player_name</th>\n",
       "    </tr>\n",
       "  </thead>\n",
       "  <tbody>\n",
       "    <tr>\n",
       "      <th>41</th>\n",
       "      <td>yellow-red-card</td>\n",
       "      <td>73</td>\n",
       "      <td>0</td>\n",
       "      <td>NaN</td>\n",
       "      <td>NaN</td>\n",
       "      <td>73'</td>\n",
       "      <td>2012-10-13 15:00:00+01:00</td>\n",
       "      <td>Yeovil Town</td>\n",
       "      <td>Joe Edwards</td>\n",
       "    </tr>\n",
       "    <tr>\n",
       "      <th>78</th>\n",
       "      <td>red-card</td>\n",
       "      <td>36</td>\n",
       "      <td>0</td>\n",
       "      <td>NaN</td>\n",
       "      <td>NaN</td>\n",
       "      <td>36'</td>\n",
       "      <td>2013-02-02 15:00:00+00:00</td>\n",
       "      <td>Tranmere Rovers</td>\n",
       "      <td>Jean-Louis Akpa Akpro</td>\n",
       "    </tr>\n",
       "    <tr>\n",
       "      <th>83</th>\n",
       "      <td>red-card</td>\n",
       "      <td>6</td>\n",
       "      <td>0</td>\n",
       "      <td>NaN</td>\n",
       "      <td>NaN</td>\n",
       "      <td>6'</td>\n",
       "      <td>2013-02-15 19:45:00+00:00</td>\n",
       "      <td>Tranmere Rovers</td>\n",
       "      <td>Liam Palmer</td>\n",
       "    </tr>\n",
       "    <tr>\n",
       "      <th>129</th>\n",
       "      <td>yellow-red-card</td>\n",
       "      <td>33</td>\n",
       "      <td>0</td>\n",
       "      <td>NaN</td>\n",
       "      <td>NaN</td>\n",
       "      <td>33'</td>\n",
       "      <td>2013-08-17 15:00:00+01:00</td>\n",
       "      <td>Tranmere Rovers</td>\n",
       "      <td>Danny Holmes</td>\n",
       "    </tr>\n",
       "    <tr>\n",
       "      <th>131</th>\n",
       "      <td>red-card</td>\n",
       "      <td>38</td>\n",
       "      <td>0</td>\n",
       "      <td>NaN</td>\n",
       "      <td>NaN</td>\n",
       "      <td>38'</td>\n",
       "      <td>2013-08-24 15:00:00+01:00</td>\n",
       "      <td>Tranmere Rovers</td>\n",
       "      <td>Andrai Jones</td>\n",
       "    </tr>\n",
       "    <tr>\n",
       "      <th>...</th>\n",
       "      <td>...</td>\n",
       "      <td>...</td>\n",
       "      <td>...</td>\n",
       "      <td>...</td>\n",
       "      <td>...</td>\n",
       "      <td>...</td>\n",
       "      <td>...</td>\n",
       "      <td>...</td>\n",
       "      <td>...</td>\n",
       "    </tr>\n",
       "    <tr>\n",
       "      <th>1510</th>\n",
       "      <td>red-card</td>\n",
       "      <td>69</td>\n",
       "      <td>0</td>\n",
       "      <td>NaN</td>\n",
       "      <td>NaN</td>\n",
       "      <td>69'</td>\n",
       "      <td>2022-10-04 19:00:00+01:00</td>\n",
       "      <td>Leeds United U21</td>\n",
       "      <td>Sam Greenwood</td>\n",
       "    </tr>\n",
       "    <tr>\n",
       "      <th>1528</th>\n",
       "      <td>red-card</td>\n",
       "      <td>90</td>\n",
       "      <td>5</td>\n",
       "      <td>NaN</td>\n",
       "      <td>NaN</td>\n",
       "      <td>90'+5</td>\n",
       "      <td>2022-11-12 15:00:00+00:00</td>\n",
       "      <td>Tranmere Rovers</td>\n",
       "      <td>Jordan Turnbull</td>\n",
       "    </tr>\n",
       "    <tr>\n",
       "      <th>1529</th>\n",
       "      <td>red-card</td>\n",
       "      <td>30</td>\n",
       "      <td>0</td>\n",
       "      <td>NaN</td>\n",
       "      <td>NaN</td>\n",
       "      <td>30'</td>\n",
       "      <td>2022-11-19 15:00:00+00:00</td>\n",
       "      <td>Tranmere Rovers</td>\n",
       "      <td>Dynel Simeu</td>\n",
       "    </tr>\n",
       "    <tr>\n",
       "      <th>1542</th>\n",
       "      <td>red-card</td>\n",
       "      <td>76</td>\n",
       "      <td>0</td>\n",
       "      <td>NaN</td>\n",
       "      <td>NaN</td>\n",
       "      <td>76'</td>\n",
       "      <td>2022-12-29 19:45:00+00:00</td>\n",
       "      <td>Tranmere Rovers</td>\n",
       "      <td>Paul Lewis</td>\n",
       "    </tr>\n",
       "    <tr>\n",
       "      <th>1552</th>\n",
       "      <td>yellow-red-card</td>\n",
       "      <td>76</td>\n",
       "      <td>0</td>\n",
       "      <td>NaN</td>\n",
       "      <td>NaN</td>\n",
       "      <td>76'</td>\n",
       "      <td>2023-01-14 15:00:00+00:00</td>\n",
       "      <td>Walsall</td>\n",
       "      <td>Emmanuel Monthe</td>\n",
       "    </tr>\n",
       "  </tbody>\n",
       "</table>\n",
       "<p>90 rows × 9 columns</p>\n",
       "</div>"
      ],
      "text/plain": [
       "                 type  timeElapsed  addedTime penalty ownGoal displayTime  \\\n",
       "41    yellow-red-card           73          0     NaN     NaN         73'   \n",
       "78           red-card           36          0     NaN     NaN         36'   \n",
       "83           red-card            6          0     NaN     NaN          6'   \n",
       "129   yellow-red-card           33          0     NaN     NaN         33'   \n",
       "131          red-card           38          0     NaN     NaN         38'   \n",
       "...               ...          ...        ...     ...     ...         ...   \n",
       "1510         red-card           69          0     NaN     NaN         69'   \n",
       "1528         red-card           90          5     NaN     NaN       90'+5   \n",
       "1529         red-card           30          0     NaN     NaN         30'   \n",
       "1542         red-card           76          0     NaN     NaN         76'   \n",
       "1552  yellow-red-card           76          0     NaN     NaN         76'   \n",
       "\n",
       "                      game_date              team            player_name  \n",
       "41    2012-10-13 15:00:00+01:00       Yeovil Town            Joe Edwards  \n",
       "78    2013-02-02 15:00:00+00:00   Tranmere Rovers  Jean-Louis Akpa Akpro  \n",
       "83    2013-02-15 19:45:00+00:00   Tranmere Rovers            Liam Palmer  \n",
       "129   2013-08-17 15:00:00+01:00   Tranmere Rovers           Danny Holmes  \n",
       "131   2013-08-24 15:00:00+01:00   Tranmere Rovers           Andrai Jones  \n",
       "...                         ...               ...                    ...  \n",
       "1510  2022-10-04 19:00:00+01:00  Leeds United U21          Sam Greenwood  \n",
       "1528  2022-11-12 15:00:00+00:00   Tranmere Rovers        Jordan Turnbull  \n",
       "1529  2022-11-19 15:00:00+00:00   Tranmere Rovers            Dynel Simeu  \n",
       "1542  2022-12-29 19:45:00+00:00   Tranmere Rovers             Paul Lewis  \n",
       "1552  2023-01-14 15:00:00+00:00           Walsall        Emmanuel Monthe  \n",
       "\n",
       "[90 rows x 9 columns]"
      ]
     },
     "execution_count": 101,
     "metadata": {},
     "output_type": "execute_result"
    }
   ],
   "source": [
    "bbc = pd.read_csv(\"~/Desktop/bbc-goals-and-cards.csv\").query(\"type.str.contains('red-card')\").drop_duplicates()\n",
    "\n",
    "bbc"
   ]
  },
  {
   "cell_type": "code",
   "execution_count": null,
   "metadata": {},
   "outputs": [],
   "source": []
  }
 ],
 "metadata": {
  "kernelspec": {
   "display_name": "Python 3",
   "language": "python",
   "name": "python3"
  },
  "language_info": {
   "codemirror_mode": {
    "name": "ipython",
    "version": 3
   },
   "file_extension": ".py",
   "mimetype": "text/x-python",
   "name": "python",
   "nbconvert_exporter": "python",
   "pygments_lexer": "ipython3",
   "version": "3.11.3"
  },
  "orig_nbformat": 4
 },
 "nbformat": 4,
 "nbformat_minor": 2
}
