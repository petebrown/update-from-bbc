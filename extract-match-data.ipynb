{
 "cells": [
  {
   "cell_type": "code",
   "execution_count": 21,
   "metadata": {},
   "outputs": [],
   "source": [
    "import json\n",
    "import pandas as pd\n",
    "import re\n",
    "\n",
    "with open(\"./matches/EFBO2372905.json\") as f:\n",
    "    data = f.read()\n",
    "\n",
    "data = json.loads(data)\n",
    "match_key = next(iter(data[\"matchData\"][0][\"tournamentDatesWithEvents\"]))\n",
    "\n",
    "comp_data = data[\"matchData\"][0][\"tournamentMeta\"]\n",
    "cup_data = data[\"matchData\"][0][\"tournamentDatesWithEvents\"][match_key][0][\"round\"]\n",
    "match_data = data[\"matchData\"][0][\"tournamentDatesWithEvents\"][match_key][0][\"events\"][0]"
   ]
  },
  {
   "cell_type": "code",
   "execution_count": 22,
   "metadata": {},
   "outputs": [
    {
     "data": {
      "text/plain": [
       "dict_keys(['eventKey', 'startTime', 'isTBC', 'minutesElapsed', 'minutesIntoAddedTime', 'eventStatus', 'eventStatusNote', 'eventStatusReason', 'eventOutcomeType', 'eventType', 'seriesWinner', 'cpsId', 'cpsLive', 'homeTeam', 'awayTeam', 'eventProgress', 'venue', 'officials', 'tournamentInfo', 'eventActions', 'startTimeInUKHHMM', 'comment', 'href', 'tournamentName', 'tournamentSlug'])"
      ]
     },
     "execution_count": 22,
     "metadata": {},
     "output_type": "execute_result"
    }
   ],
   "source": [
    "match_data.keys()"
   ]
  },
  {
   "cell_type": "code",
   "execution_count": 23,
   "metadata": {},
   "outputs": [],
   "source": [
    "if match_data[\"homeTeam\"][\"name\"][\"full\"] == \"Tranmere Rovers\":\n",
    "    tranmere = \"homeTeam\"\n",
    "    opponent = \"awayTeam\"\n",
    "else:\n",
    "    tranmere = \"awayTeam\"\n",
    "    opponent = \"homeTeam\""
   ]
  },
  {
   "cell_type": "code",
   "execution_count": 24,
   "metadata": {},
   "outputs": [
    {
     "data": {
      "text/plain": [
       "'2023-08-08'"
      ]
     },
     "execution_count": 24,
     "metadata": {},
     "output_type": "execute_result"
    }
   ],
   "source": [
    "game_date = match_data[\"startTime\"][:10]\n",
    "game_date"
   ]
  },
  {
   "cell_type": "code",
   "execution_count": 25,
   "metadata": {},
   "outputs": [
    {
     "data": {
      "text/plain": [
       "'Barnsley'"
      ]
     },
     "execution_count": 25,
     "metadata": {},
     "output_type": "execute_result"
    }
   ],
   "source": [
    "opposition = match_data[opponent][\"name\"][\"full\"]\n",
    "opposition"
   ]
  },
  {
   "cell_type": "code",
   "execution_count": 26,
   "metadata": {},
   "outputs": [
    {
     "data": {
      "text/plain": [
       "'H'"
      ]
     },
     "execution_count": 26,
     "metadata": {},
     "output_type": "execute_result"
    }
   ],
   "source": [
    "if match_data[\"venue\"][\"name\"][\"full\"] == \"Wembley Stadium\":\n",
    "    venue = \"N\"\n",
    "elif match_data[\"venue\"][\"name\"][\"full\"] == \"Prenton Park\":\n",
    "    venue = \"H\"\n",
    "elif match_data[\"venue\"][\"name\"][\"full\"] != \"Prenton Park\":\n",
    "    venue = \"H\"\n",
    "venue"
   ]
  },
  {
   "cell_type": "code",
   "execution_count": 27,
   "metadata": {},
   "outputs": [
    {
     "data": {
      "text/plain": [
       "2"
      ]
     },
     "execution_count": 27,
     "metadata": {},
     "output_type": "execute_result"
    }
   ],
   "source": [
    "goals_for = match_data[tranmere][\"scores\"][\"score\"]\n",
    "goals_for"
   ]
  },
  {
   "cell_type": "code",
   "execution_count": 28,
   "metadata": {},
   "outputs": [
    {
     "data": {
      "text/plain": [
       "2"
      ]
     },
     "execution_count": 28,
     "metadata": {},
     "output_type": "execute_result"
    }
   ],
   "source": [
    "goals_against = match_data[opponent][\"scores\"][\"score\"]\n",
    "goals_against"
   ]
  },
  {
   "cell_type": "code",
   "execution_count": 29,
   "metadata": {},
   "outputs": [
    {
     "data": {
      "text/plain": [
       "'2-2'"
      ]
     },
     "execution_count": 29,
     "metadata": {},
     "output_type": "execute_result"
    }
   ],
   "source": [
    "score = f\"{goals_for}-{goals_against}\"\n",
    "score"
   ]
  },
  {
   "cell_type": "code",
   "execution_count": 30,
   "metadata": {},
   "outputs": [
    {
     "data": {
      "text/plain": [
       "'D'"
      ]
     },
     "execution_count": 30,
     "metadata": {},
     "output_type": "execute_result"
    }
   ],
   "source": [
    "if goals_for > goals_against:\n",
    "    outcome = \"W\"\n",
    "elif goals_for < goals_against:\n",
    "    outcome = \"L\"\n",
    "else:\n",
    "    outcome = \"D\"\n",
    "outcome"
   ]
  },
  {
   "cell_type": "code",
   "execution_count": 31,
   "metadata": {},
   "outputs": [
    {
     "data": {
      "text/plain": [
       "0"
      ]
     },
     "execution_count": 31,
     "metadata": {},
     "output_type": "execute_result"
    }
   ],
   "source": [
    "goal_diff = goals_for - goals_against\n",
    "goal_diff"
   ]
  },
  {
   "cell_type": "code",
   "execution_count": 32,
   "metadata": {},
   "outputs": [
    {
     "data": {
      "text/plain": [
       "'Cup'"
      ]
     },
     "execution_count": 32,
     "metadata": {},
     "output_type": "execute_result"
    }
   ],
   "source": [
    "if comp_data[\"tournamentName\"][\"first\"] in [\"League One\", \"League Two\", \"National League\"]:\n",
    "    if \"Play-offs\" in cup_data[\"round\"][\"full\"]:\n",
    "        game_type = \"League\"\n",
    "    else:\n",
    "        game_type = \"League Play-Off\"\n",
    "else:\n",
    "    game_type = \"Cup\"\n",
    "game_type"
   ]
  },
  {
   "cell_type": "code",
   "execution_count": 33,
   "metadata": {},
   "outputs": [
    {
     "data": {
      "text/plain": [
       "'EFL Cup'"
      ]
     },
     "execution_count": 33,
     "metadata": {},
     "output_type": "execute_result"
    }
   ],
   "source": [
    "# competition\n",
    "competition = comp_data[\"tournamentName\"][\"first\"]\n",
    "competition"
   ]
  },
  {
   "cell_type": "code",
   "execution_count": 34,
   "metadata": {},
   "outputs": [],
   "source": [
    "# generic_comp"
   ]
  },
  {
   "cell_type": "code",
   "execution_count": 35,
   "metadata": {},
   "outputs": [],
   "source": [
    "# league_tier"
   ]
  },
  {
   "cell_type": "code",
   "execution_count": 36,
   "metadata": {},
   "outputs": [
    {
     "data": {
      "text/plain": [
       "'19:45'"
      ]
     },
     "execution_count": 36,
     "metadata": {},
     "output_type": "execute_result"
    }
   ],
   "source": [
    "ko_time = match_data[\"startTimeInUKHHMM\"]\n",
    "ko_time"
   ]
  },
  {
   "cell_type": "code",
   "execution_count": 37,
   "metadata": {},
   "outputs": [],
   "source": [
    "# cup_round"
   ]
  },
  {
   "cell_type": "code",
   "execution_count": 38,
   "metadata": {},
   "outputs": [],
   "source": [
    "cup_leg = None\n",
    "if \" leg\" in match_data[\"eventType\"]:\n",
    "    cup_leg = match_data[\"eventType\"][:1]\n",
    "cup_leg"
   ]
  },
  {
   "cell_type": "code",
   "execution_count": 39,
   "metadata": {},
   "outputs": [
    {
     "data": {
      "text/plain": [
       "'First Round North'"
      ]
     },
     "execution_count": 39,
     "metadata": {},
     "output_type": "execute_result"
    }
   ],
   "source": [
    "cup_stage = cup_data[\"name\"] [\"full\"]\n",
    "cup_stage"
   ]
  },
  {
   "cell_type": "code",
   "execution_count": 40,
   "metadata": {},
   "outputs": [],
   "source": [
    "cup_replay = match_data[\"eventType\"]\n",
    "\n",
    "if cup_replay.upper() == \"REPLAY\":\n",
    "    cup_replay = 1\n",
    "else:\n",
    "    cup_replay = None\n",
    "\n",
    "cup_replay"
   ]
  },
  {
   "cell_type": "code",
   "execution_count": 41,
   "metadata": {},
   "outputs": [
    {
     "data": {
      "text/plain": [
       "'North'"
      ]
     },
     "execution_count": 41,
     "metadata": {},
     "output_type": "execute_result"
    }
   ],
   "source": [
    "cup_section = None\n",
    "if re.search(r\"North(?:ern)?\", cup_stage):\n",
    "    cup_section = re.search(r\"North(?:ern)?\", cup_stage).group(0)\n",
    "cup_section"
   ]
  },
  {
   "cell_type": "code",
   "execution_count": 42,
   "metadata": {},
   "outputs": [],
   "source": [
    "if match_data[\"eventProgress\"] == \"EXTRATIMECOMPLETE\":\n",
    "    aet = 1\n",
    "else:\n",
    "    aet = None\n",
    "aet"
   ]
  },
  {
   "cell_type": "code",
   "execution_count": 43,
   "metadata": {},
   "outputs": [
    {
     "data": {
      "text/plain": [
       "7"
      ]
     },
     "execution_count": 43,
     "metadata": {},
     "output_type": "execute_result"
    }
   ],
   "source": [
    "pen_gf = int(match_data[tranmere][\"scores\"][\"shootout\"])\n",
    "pen_gf"
   ]
  },
  {
   "cell_type": "code",
   "execution_count": 44,
   "metadata": {},
   "outputs": [
    {
     "data": {
      "text/plain": [
       "6"
      ]
     },
     "execution_count": 44,
     "metadata": {},
     "output_type": "execute_result"
    }
   ],
   "source": [
    "pen_ga = int(match_data[opponent][\"scores\"][\"shootout\"])\n",
    "pen_ga"
   ]
  },
  {
   "cell_type": "code",
   "execution_count": 45,
   "metadata": {},
   "outputs": [
    {
     "data": {
      "text/plain": [
       "'W'"
      ]
     },
     "execution_count": 45,
     "metadata": {},
     "output_type": "execute_result"
    }
   ],
   "source": [
    "if pen_gf > pen_ga:\n",
    "    pen_outcome = \"W\"\n",
    "elif pen_gf < pen_ga:\n",
    "    pen_outcome = \"L\"\n",
    "else:\n",
    "    None\n",
    "pen_outcome"
   ]
  },
  {
   "cell_type": "code",
   "execution_count": 46,
   "metadata": {},
   "outputs": [
    {
     "data": {
      "text/plain": [
       "'7-6'"
      ]
     },
     "execution_count": 46,
     "metadata": {},
     "output_type": "execute_result"
    }
   ],
   "source": [
    "pen_score = f\"{pen_gf}-{pen_ga}\"\n",
    "pen_score"
   ]
  },
  {
   "cell_type": "code",
   "execution_count": 47,
   "metadata": {},
   "outputs": [],
   "source": [
    "agg_gf = match_data[tranmere][\"scores\"][\"aggregate\"]\n",
    "agg_gf"
   ]
  },
  {
   "cell_type": "code",
   "execution_count": 48,
   "metadata": {},
   "outputs": [],
   "source": [
    "agg_ga = match_data[opponent][\"scores\"][\"aggregate\"]\n",
    "agg_ga"
   ]
  },
  {
   "cell_type": "code",
   "execution_count": 49,
   "metadata": {},
   "outputs": [],
   "source": [
    "agg_outcome = None\n",
    "if agg_gf:\n",
    "    if agg_gf > agg_ga:\n",
    "        agg_outcome = \"W\"\n",
    "    elif agg_gf < agg_ga:\n",
    "        agg_outcome = \"L\"\n",
    "    else:\n",
    "        agg_outcome = \"D\"\n",
    "agg_outcome        "
   ]
  },
  {
   "cell_type": "code",
   "execution_count": 50,
   "metadata": {},
   "outputs": [],
   "source": [
    "agg_score = None\n",
    "if agg_outcome:\n",
    "    agg_score = f\"{agg_gf}-{agg_ga}\"\n",
    "agg_score"
   ]
  },
  {
   "cell_type": "code",
   "execution_count": 51,
   "metadata": {},
   "outputs": [],
   "source": [
    "decider = match_data[\"eventOutcomeType\"]\n",
    "\n",
    "if decider == \"shootout\":\n",
    "    decider = \"pens\"\n",
    "if decider == \"extra-time\":\n",
    "    decider = \"extra time\""
   ]
  },
  {
   "cell_type": "code",
   "execution_count": 52,
   "metadata": {},
   "outputs": [
    {
     "data": {
      "text/plain": [
       "'W'"
      ]
     },
     "execution_count": 52,
     "metadata": {},
     "output_type": "execute_result"
    }
   ],
   "source": [
    "if aet or pen_outcome or agg_outcome:\n",
    "    cup_outcome = match_data[tranmere][\"eventOutcome\"].upper()[:1]\n",
    "else:\n",
    "    cup_outcome = None\n",
    "cup_outcome"
   ]
  },
  {
   "cell_type": "code",
   "execution_count": 53,
   "metadata": {},
   "outputs": [
    {
     "data": {
      "text/plain": [
       "'Won 7-6 on pens'"
      ]
     },
     "execution_count": 53,
     "metadata": {},
     "output_type": "execute_result"
    }
   ],
   "source": [
    "if pen_outcome and agg_outcome:\n",
    "    if pen_outcome == \"W\":\n",
    "        str_outcome = \"Won\"\n",
    "    else:\n",
    "        str_outcome = \"Lost\"\n",
    "    outcome_desc = f\"{agg_score}. {str_outcome} {pen_score} on pens\"\n",
    "elif pen_outcome and not agg_outcome:\n",
    "    if pen_outcome == \"W\":\n",
    "        str_outcome = \"Won\"\n",
    "    else:\n",
    "        str_outcome = \"Lost\"\n",
    "    outcome_desc = f\"{str_outcome} {pen_score} on pens\"\n",
    "elif agg_outcome and not pen_outcome:\n",
    "    if agg_outcome == \"W\":\n",
    "        str_outcome = \"Won\"\n",
    "    else:\n",
    "        str_outcome = \"Lost\"\n",
    "    outcome_desc = f\"{str_outcome} {agg_score} on agg\"\n",
    "else:\n",
    "    outcome_desc = None\n",
    "    \n",
    "outcome_desc"
   ]
  },
  {
   "cell_type": "code",
   "execution_count": 54,
   "metadata": {},
   "outputs": [
    {
     "data": {
      "text/plain": [
       "90"
      ]
     },
     "execution_count": 54,
     "metadata": {},
     "output_type": "execute_result"
    }
   ],
   "source": [
    "# game_length\n",
    "if aet == 1:\n",
    "    game_length = 120\n",
    "else:\n",
    "    game_length = 90\n",
    "game_length"
   ]
  },
  {
   "cell_type": "code",
   "execution_count": 55,
   "metadata": {},
   "outputs": [
    {
     "data": {
      "text/plain": [
       "'Oakwell'"
      ]
     },
     "execution_count": 55,
     "metadata": {},
     "output_type": "execute_result"
    }
   ],
   "source": [
    "stadium = match_data[\"venue\"][\"name\"][\"full\"]\n",
    "stadium"
   ]
  },
  {
   "cell_type": "code",
   "execution_count": 62,
   "metadata": {},
   "outputs": [
    {
     "data": {
      "text/html": [
       "<div>\n",
       "<style scoped>\n",
       "    .dataframe tbody tr th:only-of-type {\n",
       "        vertical-align: middle;\n",
       "    }\n",
       "\n",
       "    .dataframe tbody tr th {\n",
       "        vertical-align: top;\n",
       "    }\n",
       "\n",
       "    .dataframe thead th {\n",
       "        text-align: right;\n",
       "    }\n",
       "</style>\n",
       "<table border=\"1\" class=\"dataframe\">\n",
       "  <thead>\n",
       "    <tr style=\"text-align: right;\">\n",
       "      <th></th>\n",
       "      <th>type</th>\n",
       "      <th>timeElapsed</th>\n",
       "      <th>addedTime</th>\n",
       "      <th>penalty</th>\n",
       "      <th>ownGoal</th>\n",
       "      <th>displayTime</th>\n",
       "      <th>game_date</th>\n",
       "      <th>team</th>\n",
       "      <th>player_name</th>\n",
       "    </tr>\n",
       "  </thead>\n",
       "  <tbody>\n",
       "    <tr>\n",
       "      <th>0</th>\n",
       "      <td>goal</td>\n",
       "      <td>45</td>\n",
       "      <td>3</td>\n",
       "      <td>False</td>\n",
       "      <td>False</td>\n",
       "      <td>45'+3</td>\n",
       "      <td>2023-08-08</td>\n",
       "      <td>Barnsley</td>\n",
       "      <td>NaN</td>\n",
       "    </tr>\n",
       "    <tr>\n",
       "      <th>0</th>\n",
       "      <td>goal</td>\n",
       "      <td>90</td>\n",
       "      <td>8</td>\n",
       "      <td>False</td>\n",
       "      <td>False</td>\n",
       "      <td>90'+8</td>\n",
       "      <td>2023-08-08</td>\n",
       "      <td>Barnsley</td>\n",
       "      <td>NaN</td>\n",
       "    </tr>\n",
       "    <tr>\n",
       "      <th>0</th>\n",
       "      <td>goal</td>\n",
       "      <td>23</td>\n",
       "      <td>0</td>\n",
       "      <td>False</td>\n",
       "      <td>False</td>\n",
       "      <td>23'</td>\n",
       "      <td>2023-08-08</td>\n",
       "      <td>Tranmere Rovers</td>\n",
       "      <td>NaN</td>\n",
       "    </tr>\n",
       "    <tr>\n",
       "      <th>0</th>\n",
       "      <td>goal</td>\n",
       "      <td>47</td>\n",
       "      <td>0</td>\n",
       "      <td>False</td>\n",
       "      <td>False</td>\n",
       "      <td>47'</td>\n",
       "      <td>2023-08-08</td>\n",
       "      <td>Tranmere Rovers</td>\n",
       "      <td>NaN</td>\n",
       "    </tr>\n",
       "  </tbody>\n",
       "</table>\n",
       "</div>"
      ],
      "text/plain": [
       "   type  timeElapsed  addedTime  penalty  ownGoal displayTime  game_date  \\\n",
       "0  goal           45          3    False    False       45'+3 2023-08-08   \n",
       "0  goal           90          8    False    False       90'+8 2023-08-08   \n",
       "0  goal           23          0    False    False         23' 2023-08-08   \n",
       "0  goal           47          0    False    False         47' 2023-08-08   \n",
       "\n",
       "              team player_name  \n",
       "0         Barnsley         NaN  \n",
       "0         Barnsley         NaN  \n",
       "0  Tranmere Rovers         NaN  \n",
       "0  Tranmere Rovers         NaN  "
      ]
     },
     "execution_count": 62,
     "metadata": {},
     "output_type": "execute_result"
    }
   ],
   "source": [
    "teams = [\"homeTeam\", \"awayTeam\"]\n",
    "\n",
    "player_actions = pd.DataFrame()\n",
    "for team in teams:\n",
    "    team_name = match_data[team][\"name\"][\"full\"]\n",
    "    try:\n",
    "        players = match_data[team][\"playerActions\"]\n",
    "        for player in players:\n",
    "            player_name = player[\"name\"][\"full\"]\n",
    "            \n",
    "            actions = player[\"actions\"]\n",
    "            for action in actions:\n",
    "                action_df = pd.json_normalize(action)\n",
    "                action_df[\"game_date\"] = pd.to_datetime(game_date)\n",
    "                action_df[\"team\"] = team_name\n",
    "                action_df[\"player_name\"] = player\n",
    "                player_actions = pd.concat([player_actions, action_df], axis = 0)\n",
    "    except KeyError:\n",
    "        pass\n",
    "player_actions"
   ]
  },
  {
   "cell_type": "code",
   "execution_count": 63,
   "metadata": {},
   "outputs": [
    {
     "data": {
      "text/html": [
       "<div>\n",
       "<style scoped>\n",
       "    .dataframe tbody tr th:only-of-type {\n",
       "        vertical-align: middle;\n",
       "    }\n",
       "\n",
       "    .dataframe tbody tr th {\n",
       "        vertical-align: top;\n",
       "    }\n",
       "\n",
       "    .dataframe thead th {\n",
       "        text-align: right;\n",
       "    }\n",
       "</style>\n",
       "<table border=\"1\" class=\"dataframe\">\n",
       "  <thead>\n",
       "    <tr style=\"text-align: right;\">\n",
       "      <th></th>\n",
       "      <th>type</th>\n",
       "      <th>timeElapsed</th>\n",
       "      <th>addedTime</th>\n",
       "      <th>penalty</th>\n",
       "      <th>ownGoal</th>\n",
       "      <th>displayTime</th>\n",
       "      <th>game_date</th>\n",
       "      <th>team</th>\n",
       "      <th>player_name</th>\n",
       "    </tr>\n",
       "  </thead>\n",
       "  <tbody>\n",
       "    <tr>\n",
       "      <th>0</th>\n",
       "      <td>goal</td>\n",
       "      <td>45</td>\n",
       "      <td>3</td>\n",
       "      <td>False</td>\n",
       "      <td>False</td>\n",
       "      <td>45'+3</td>\n",
       "      <td>2023-08-08</td>\n",
       "      <td>Barnsley</td>\n",
       "      <td>Herbie Kane</td>\n",
       "    </tr>\n",
       "    <tr>\n",
       "      <th>0</th>\n",
       "      <td>goal</td>\n",
       "      <td>90</td>\n",
       "      <td>8</td>\n",
       "      <td>False</td>\n",
       "      <td>False</td>\n",
       "      <td>90'+8</td>\n",
       "      <td>2023-08-08</td>\n",
       "      <td>Barnsley</td>\n",
       "      <td>Aiden Marsh</td>\n",
       "    </tr>\n",
       "    <tr>\n",
       "      <th>0</th>\n",
       "      <td>goal</td>\n",
       "      <td>23</td>\n",
       "      <td>0</td>\n",
       "      <td>False</td>\n",
       "      <td>False</td>\n",
       "      <td>23'</td>\n",
       "      <td>2023-08-08</td>\n",
       "      <td>Tranmere Rovers</td>\n",
       "      <td>Luke Norris</td>\n",
       "    </tr>\n",
       "    <tr>\n",
       "      <th>0</th>\n",
       "      <td>goal</td>\n",
       "      <td>47</td>\n",
       "      <td>0</td>\n",
       "      <td>False</td>\n",
       "      <td>False</td>\n",
       "      <td>47'</td>\n",
       "      <td>2023-08-08</td>\n",
       "      <td>Tranmere Rovers</td>\n",
       "      <td>Samuel Taylor</td>\n",
       "    </tr>\n",
       "  </tbody>\n",
       "</table>\n",
       "</div>"
      ],
      "text/plain": [
       "   type  timeElapsed  addedTime  penalty  ownGoal displayTime  game_date  \\\n",
       "0  goal           45          3    False    False       45'+3 2023-08-08   \n",
       "0  goal           90          8    False    False       90'+8 2023-08-08   \n",
       "0  goal           23          0    False    False         23' 2023-08-08   \n",
       "0  goal           47          0    False    False         47' 2023-08-08   \n",
       "\n",
       "              team    player_name  \n",
       "0         Barnsley    Herbie Kane  \n",
       "0         Barnsley    Aiden Marsh  \n",
       "0  Tranmere Rovers    Luke Norris  \n",
       "0  Tranmere Rovers  Samuel Taylor  "
      ]
     },
     "execution_count": 63,
     "metadata": {},
     "output_type": "execute_result"
    }
   ],
   "source": [
    "teams = [\"homeTeam\", \"awayTeam\"]\n",
    "\n",
    "player_actions = pd.DataFrame()\n",
    "for team in teams:\n",
    "    team_name = match_data[team][\"name\"][\"full\"]\n",
    "    try:\n",
    "        players = match_data[team][\"playerActions\"]\n",
    "        for player in players:\n",
    "            player_name = player[\"name\"][\"full\"]\n",
    "            \n",
    "            actions = player[\"actions\"]\n",
    "            for action in actions:\n",
    "                action_df = pd.json_normalize(action)\n",
    "                action_df[\"game_date\"] = pd.to_datetime(game_date)\n",
    "                action_df[\"team\"] = team_name\n",
    "                action_df[\"player_name\"] = player_name\n",
    "                player_actions = pd.concat([player_actions, action_df], axis = 0)\n",
    "    except KeyError:\n",
    "        pass\n",
    "player_actions"
   ]
  },
  {
   "cell_type": "code",
   "execution_count": 65,
   "metadata": {},
   "outputs": [
    {
     "name": "stdout",
     "output_type": "stream",
     "text": [
      "2 goals saved.\n"
     ]
    },
    {
     "data": {
      "text/html": [
       "<div>\n",
       "<style scoped>\n",
       "    .dataframe tbody tr th:only-of-type {\n",
       "        vertical-align: middle;\n",
       "    }\n",
       "\n",
       "    .dataframe tbody tr th {\n",
       "        vertical-align: top;\n",
       "    }\n",
       "\n",
       "    .dataframe thead th {\n",
       "        text-align: right;\n",
       "    }\n",
       "</style>\n",
       "<table border=\"1\" class=\"dataframe\">\n",
       "  <thead>\n",
       "    <tr style=\"text-align: right;\">\n",
       "      <th></th>\n",
       "      <th>game_date</th>\n",
       "      <th>player_name</th>\n",
       "      <th>goal_min</th>\n",
       "      <th>penalty</th>\n",
       "      <th>own_goal</th>\n",
       "    </tr>\n",
       "  </thead>\n",
       "  <tbody>\n",
       "    <tr>\n",
       "      <th>0</th>\n",
       "      <td>2023-08-08</td>\n",
       "      <td>Luke Norris</td>\n",
       "      <td>23</td>\n",
       "      <td>0</td>\n",
       "      <td>0</td>\n",
       "    </tr>\n",
       "    <tr>\n",
       "      <th>0</th>\n",
       "      <td>2023-08-08</td>\n",
       "      <td>Samuel Taylor</td>\n",
       "      <td>47</td>\n",
       "      <td>0</td>\n",
       "      <td>0</td>\n",
       "    </tr>\n",
       "  </tbody>\n",
       "</table>\n",
       "</div>"
      ],
      "text/plain": [
       "   game_date    player_name  goal_min  penalty  own_goal\n",
       "0 2023-08-08    Luke Norris        23        0         0\n",
       "0 2023-08-08  Samuel Taylor        47        0         0"
      ]
     },
     "execution_count": 65,
     "metadata": {},
     "output_type": "execute_result"
    }
   ],
   "source": [
    "goals  = player_actions.query(\"type == 'goal' & team == 'Tranmere Rovers'\") \\\n",
    "    .rename(columns = {\n",
    "        \"timeElapsed\": \"goal_min\",\n",
    "        \"ownGoal\": \"own_goal\"\n",
    "    }).sort_values(\"goal_min\") \\\n",
    "    .drop_duplicates()\n",
    "\n",
    "goals.penalty = goals.penalty.astype(int)\n",
    "goals.own_goal = goals.own_goal.astype(int)\n",
    "goals.loc[goals.own_goal == 1, \"player_name\"] = \"OG\"\n",
    "\n",
    "goals = goals[[\"game_date\", \"player_name\", \"goal_min\", \"penalty\", \"own_goal\"]]\n",
    "if not goals.empty:\n",
    "    # goals.to_csv(\"goals_updates.csv\", index = False)\n",
    "    print(f\"{len(goals)} goals saved.\")\n",
    "else:\n",
    "    print(\"No goals found.\")\n",
    "\n",
    "goals"
   ]
  },
  {
   "cell_type": "code",
   "execution_count": 66,
   "metadata": {},
   "outputs": [
    {
     "name": "stdout",
     "output_type": "stream",
     "text": [
      "No red cards found.\n"
     ]
    },
    {
     "data": {
      "text/html": [
       "<div>\n",
       "<style scoped>\n",
       "    .dataframe tbody tr th:only-of-type {\n",
       "        vertical-align: middle;\n",
       "    }\n",
       "\n",
       "    .dataframe tbody tr th {\n",
       "        vertical-align: top;\n",
       "    }\n",
       "\n",
       "    .dataframe thead th {\n",
       "        text-align: right;\n",
       "    }\n",
       "</style>\n",
       "<table border=\"1\" class=\"dataframe\">\n",
       "  <thead>\n",
       "    <tr style=\"text-align: right;\">\n",
       "      <th></th>\n",
       "      <th>game_date</th>\n",
       "      <th>player_name</th>\n",
       "      <th>min_so</th>\n",
       "    </tr>\n",
       "  </thead>\n",
       "  <tbody>\n",
       "  </tbody>\n",
       "</table>\n",
       "</div>"
      ],
      "text/plain": [
       "Empty DataFrame\n",
       "Columns: [game_date, player_name, min_so]\n",
       "Index: []"
      ]
     },
     "execution_count": 66,
     "metadata": {},
     "output_type": "execute_result"
    }
   ],
   "source": [
    "red_cards = player_actions.query(\"type.str.contains('red-card')\") \\\n",
    "    .rename(columns = {\n",
    "        \"timeElapsed\": \"min_so\",\n",
    "    }).drop_duplicates()\n",
    "\n",
    "red_cards = red_cards[[\"game_date\", \"player_name\", \"min_so\"]]\n",
    "if not red_cards.empty:\n",
    "    red_cards.to_csv(\"red_card_updates.csv\", index = False)\n",
    "else:\n",
    "    print(\"No red cards found.\")\n",
    "\n",
    "red_cards"
   ]
  },
  {
   "cell_type": "code",
   "execution_count": null,
   "metadata": {},
   "outputs": [],
   "source": []
  },
  {
   "cell_type": "code",
   "execution_count": null,
   "metadata": {},
   "outputs": [],
   "source": []
  }
 ],
 "metadata": {
  "kernelspec": {
   "display_name": "Python 3",
   "language": "python",
   "name": "python3"
  },
  "language_info": {
   "codemirror_mode": {
    "name": "ipython",
    "version": 3
   },
   "file_extension": ".py",
   "mimetype": "text/x-python",
   "name": "python",
   "nbconvert_exporter": "python",
   "pygments_lexer": "ipython3",
   "version": "3.11.3"
  },
  "orig_nbformat": 4
 },
 "nbformat": 4,
 "nbformat_minor": 2
}
