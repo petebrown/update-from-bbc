{
 "cells": [
  {
   "cell_type": "code",
   "execution_count": 17,
   "metadata": {},
   "outputs": [],
   "source": [
    "import pandas as pd\n",
    "import requests\n",
    "\n",
    "def get_headers():\n",
    "    headers = {\n",
    "    'User-Agent': 'Mozilla/5.0 (Macintosh; Intel Mac OS X 10_15_7) '\n",
    "        'AppleWebKit/537.36 (KHTML, like Gecko) '\n",
    "        'Chrome/90.0.4430.212 Safari/537.36'\n",
    "    }\n",
    "    return headers\n",
    "\n",
    "class get_11v11:\n",
    "    def __init__(self, date, venue = None):\n",
    "        self.date = date\n",
    "        self.venue = venue\n",
    "        \n",
    "        self.url = self.get_url()\n",
    "\n",
    "        r = requests.get(self.url, headers = get_headers())\n",
    "\n",
    "        self.tables = pd.read_html(r.content, flavor=\"bs4\")\n",
    "        \n",
    "        self.table = self.get_table()\n",
    "        self.pos = self.get_pos()\n",
    "\n",
    "    def get_url(self):\n",
    "        year = self.date[:4]\n",
    "        month = pd.to_datetime(self.date).month_name().lower()\n",
    "        day = self.date[8:]\n",
    "\n",
    "        url = f\"https://www.11v11.com/league-tables/league-two/{day}-{month}-{year}/\"\n",
    "        if self.venue and self.venue[0].upper() in [\"H\", \"A\"]:\n",
    "            if self.venue[0].upper() == \"H\":\n",
    "                self.venue = \"home\"\n",
    "            else:\n",
    "                self.venue = \"away\"\n",
    "            url += f\"{self.venue}\"\n",
    "        return url\n",
    "    \n",
    "    def get_table(self):\n",
    "        table = self.tables[0]\n",
    "        table.Pos = table.Pos.index + 1\n",
    "        return table\n",
    "    \n",
    "    def get_pos(self):\n",
    "        try:\n",
    "            pos = self.table.query(\"Team.str.contains('Tranmere')\").Pos.values[0]\n",
    "        except:\n",
    "            pos = \"No table containing Tranmere Rovers found\"\n",
    "        return pos"
   ]
  },
  {
   "cell_type": "code",
   "execution_count": null,
   "metadata": {},
   "outputs": [],
   "source": []
  }
 ],
 "metadata": {
  "kernelspec": {
   "display_name": "Python 3",
   "language": "python",
   "name": "python3"
  },
  "language_info": {
   "codemirror_mode": {
    "name": "ipython",
    "version": 3
   },
   "file_extension": ".py",
   "mimetype": "text/x-python",
   "name": "python",
   "nbconvert_exporter": "python",
   "pygments_lexer": "ipython3",
   "version": "3.11.3"
  },
  "orig_nbformat": 4
 },
 "nbformat": 4,
 "nbformat_minor": 2
}
