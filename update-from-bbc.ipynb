{
 "cells": [
  {
   "cell_type": "code",
   "execution_count": 1,
   "metadata": {},
   "outputs": [],
   "source": [
    "import requests\n",
    "import json\n",
    "import time\n",
    "import pandas as pd\n",
    "\n",
    "headers = {\n",
    "    'User-Agent': 'Mozilla/5.0 (Macintosh; Intel Mac OS X 10_15_7) '\n",
    "        'AppleWebKit/537.36 (KHTML, like Gecko) '\n",
    "        'Chrome/90.0.4430.212 Safari/537.36'\n",
    "}"
   ]
  },
  {
   "cell_type": "code",
   "execution_count": 4,
   "metadata": {},
   "outputs": [
    {
     "name": "stdout",
     "output_type": "stream",
     "text": [
      "https://push.api.bbci.co.uk/data/bbc-morph-football-scores-match-list-data/endDate/2023-08-08/startDate/2023-08-08/team/tranmere-rovers/todayDate/2023-08-08/version/2.4.6/withPlayerActions/true?timeout=5\n",
      "Saved ./matches/EFBO2372905.json\n"
     ]
    }
   ],
   "source": [
    "game_date = \"2023-08-08\"\n",
    "\n",
    "match_data_url = f\"https://push.api.bbci.co.uk/data/bbc-morph-football-scores-match-list-data/endDate/{game_date}/startDate/{game_date}/team/tranmere-rovers/todayDate/{game_date}/version/2.4.6/withPlayerActions/true?timeout=5\"\n",
    "print(match_data_url)\n",
    "\n",
    "r = requests.get(match_data_url, headers = headers)\n",
    "data = r.json()\n",
    "\n",
    "match_key = next(iter(data[\"matchData\"][0][\"tournamentDatesWithEvents\"]))\n",
    "\n",
    "event_id = data[\"matchData\"][0][\"tournamentDatesWithEvents\"][match_key][0][\"events\"][0][\"eventKey\"]\n",
    "\n",
    "event_data = data[\"matchData\"][0][\"tournamentDatesWithEvents\"][match_key][0][\"events\"][0]\n",
    "\n",
    "filename = f\"./matches/{event_id}.json\"\n",
    "\n",
    "with open(filename, \"w\") as outfile:\n",
    "    json.dump(event_data, outfile)\n",
    "    print(f\"Saved {filename}\" )"
   ]
  },
  {
   "cell_type": "code",
   "execution_count": 5,
   "metadata": {},
   "outputs": [
    {
     "name": "stdout",
     "output_type": "stream",
     "text": [
      "https://push.api.bbci.co.uk/data/bbc-morph-lx-commentary-data-paged/discipline/soccer/eventId/EFBO2372905/isUk/false/limit/20/nitroKey/lx-nitro/pageNumber/1/version/1.5.6\n",
      "Added page 1 of report for event EFBO2372905\n",
      "https://push.api.bbci.co.uk/data/bbc-morph-lx-commentary-data-paged/discipline/soccer/eventId/EFBO2372905/isUk/false/limit/20/nitroKey/lx-nitro/pageNumber/2/version/1.5.6\n",
      "Added page 2 of report for event EFBO2372905\n",
      "https://push.api.bbci.co.uk/data/bbc-morph-lx-commentary-data-paged/discipline/soccer/eventId/EFBO2372905/isUk/false/limit/20/nitroKey/lx-nitro/pageNumber/3/version/1.5.6\n",
      "Added page 3 of report for event EFBO2372905\n",
      "https://push.api.bbci.co.uk/data/bbc-morph-lx-commentary-data-paged/discipline/soccer/eventId/EFBO2372905/isUk/false/limit/20/nitroKey/lx-nitro/pageNumber/4/version/1.5.6\n",
      "Added page 4 of report for event EFBO2372905\n",
      "https://push.api.bbci.co.uk/data/bbc-morph-lx-commentary-data-paged/discipline/soccer/eventId/EFBO2372905/isUk/false/limit/20/nitroKey/lx-nitro/pageNumber/5/version/1.5.6\n",
      "Added page 5 of report for event EFBO2372905\n",
      "https://push.api.bbci.co.uk/data/bbc-morph-lx-commentary-data-paged/discipline/soccer/eventId/EFBO2372905/isUk/false/limit/20/nitroKey/lx-nitro/pageNumber/6/version/1.5.6\n",
      "Added page 6 of report for event EFBO2372905\n",
      "https://push.api.bbci.co.uk/data/bbc-morph-lx-commentary-data-paged/discipline/soccer/eventId/EFBO2372905/isUk/false/limit/20/nitroKey/lx-nitro/pageNumber/7/version/1.5.6\n",
      "Added page 7 of report for event EFBO2372905\n",
      "Saved /Users/petebrown/Downloads/bbc-json/live-text/EFBO2372905.json\n"
     ]
    }
   ],
   "source": [
    "# Download live text\n",
    "\n",
    "all_live_text = []\n",
    "live_text_url = f\"https://push.api.bbci.co.uk/data/bbc-morph-lx-commentary-data-paged/discipline/soccer/eventId/{event_id}/isUk/false/limit/20/nitroKey/lx-nitro/pageNumber/1/version/1.5.6\"\n",
    "\n",
    "r = requests.get(live_text_url, headers=headers)\n",
    "\n",
    "data = r.json()\n",
    "\n",
    "pages = data[\"numberOfPages\"]\n",
    "for page in range(1, pages + 1):\n",
    "    live_text_url = f\"https://push.api.bbci.co.uk/data/bbc-morph-lx-commentary-data-paged/discipline/soccer/eventId/{event_id}/isUk/false/limit/20/nitroKey/lx-nitro/pageNumber/{page}/version/1.5.6\"\n",
    "    print(live_text_url)\n",
    "\n",
    "    r = requests.get(live_text_url, headers=headers)\n",
    "\n",
    "    data = r.json()\n",
    "\n",
    "    live_text = {\n",
    "            \"event_id\": event_id,\n",
    "            \"page_no\": page,\n",
    "            \"url\": live_text_url,\n",
    "            \"data\": data\n",
    "        }\n",
    "    all_live_text.append(live_text)\n",
    "    time.sleep(0.5)\n",
    "    print(f\"Added page {page} of report for event {event_id}\")\n",
    "\n",
    "filename = f\"/Users/petebrown/Downloads/bbc-json/live-text/{event_id}.json\"\n",
    "\n",
    "with open(filename, \"w\") as outfile:\n",
    "    json.dump(all_live_text, outfile)\n",
    "    print(f\"Saved {filename}\" )"
   ]
  },
  {
   "cell_type": "code",
   "execution_count": 6,
   "metadata": {},
   "outputs": [
    {
     "name": "stdout",
     "output_type": "stream",
     "text": [
      "https://push.api.bbci.co.uk/data/bbc-morph-sport-football-team-lineups-data/event/EFBO2372905/version/1.0.8\n",
      "Added event EFBO2372905\n",
      "Saved /Users/petebrown/Downloads/bbc-json/lineups/EFBO2372905.json\n"
     ]
    }
   ],
   "source": [
    "# Download line-ups\n",
    "\n",
    "all_lineups = []\n",
    "lineup_url = f\"https://push.api.bbci.co.uk/data/bbc-morph-sport-football-team-lineups-data/event/{event_id}/version/1.0.8\"\n",
    "print(lineup_url)\n",
    "\n",
    "r = requests.get(lineup_url, headers=headers)\n",
    "try:\n",
    "    data = r.json()\n",
    "\n",
    "    lineup = {\n",
    "            \"event_id\": event_id,\n",
    "            \"url\": lineup_url,\n",
    "            \"data\": data\n",
    "        }\n",
    "    all_lineups.append(lineup)\n",
    "    print(f\"Added event {event_id}\")\n",
    "except:\n",
    "    print(f\"Skipped {event_id}\")\n",
    "    next\n",
    "\n",
    "filename = f\"/Users/petebrown/Downloads/bbc-json/lineups/{event_id}.json\"\n",
    "\n",
    "with open(filename, \"w\") as outfile:\n",
    "    json.dump(all_lineups, outfile)\n",
    "    print(f\"Saved {filename}\" )"
   ]
  }
 ],
 "metadata": {
  "kernelspec": {
   "display_name": "Python 3",
   "language": "python",
   "name": "python3"
  },
  "language_info": {
   "codemirror_mode": {
    "name": "ipython",
    "version": 3
   },
   "file_extension": ".py",
   "mimetype": "text/x-python",
   "name": "python",
   "nbconvert_exporter": "python",
   "pygments_lexer": "ipython3",
   "version": "3.11.3"
  },
  "orig_nbformat": 4
 },
 "nbformat": 4,
 "nbformat_minor": 2
}
